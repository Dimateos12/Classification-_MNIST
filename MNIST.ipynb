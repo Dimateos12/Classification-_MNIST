{
 "cells": [
  {
   "cell_type": "code",
   "execution_count": 1,
   "metadata": {
    "colab": {
     "base_uri": "https://localhost:8080/"
    },
    "executionInfo": {
     "elapsed": 31022,
     "status": "ok",
     "timestamp": 1641048096063,
     "user": {
      "displayName": "Mateusz",
      "photoUrl": "https://lh3.googleusercontent.com/a/default-user=s64",
      "userId": "16223602360258196595"
     },
     "user_tz": -60
    },
    "id": "CHZwf6mvgRFa",
    "outputId": "00af1d02-2d76-4ddc-bc0c-43a39fbe18f1"
   },
   "outputs": [
    {
     "data": {
      "text/plain": [
       "dict_keys(['data', 'target', 'frame', 'categories', 'feature_names', 'target_names', 'DESCR', 'details', 'url'])"
      ]
     },
     "execution_count": 1,
     "metadata": {},
     "output_type": "execute_result"
    }
   ],
   "source": [
    "from sklearn.datasets import fetch_openml\n",
    "mnist = fetch_openml('mnist_784', version=1, as_frame=False)\n",
    "mnist.keys()\n"
   ]
  },
  {
   "cell_type": "code",
   "execution_count": 2,
   "metadata": {
    "colab": {
     "base_uri": "https://localhost:8080/"
    },
    "executionInfo": {
     "elapsed": 44,
     "status": "ok",
     "timestamp": 1641048096065,
     "user": {
      "displayName": "Mateusz",
      "photoUrl": "https://lh3.googleusercontent.com/a/default-user=s64",
      "userId": "16223602360258196595"
     },
     "user_tz": -60
    },
    "id": "QPCsUIlBgRFc",
    "outputId": "ca074709-d797-4392-8253-8005f29663d8"
   },
   "outputs": [
    {
     "data": {
      "text/plain": [
       "(70000, 784)"
      ]
     },
     "execution_count": 2,
     "metadata": {},
     "output_type": "execute_result"
    }
   ],
   "source": [
    "X, y = mnist[\"data\"], mnist[\"target\"]\n",
    "X.shape\n"
   ]
  },
  {
   "cell_type": "code",
   "execution_count": 3,
   "metadata": {
    "colab": {
     "base_uri": "https://localhost:8080/"
    },
    "executionInfo": {
     "elapsed": 35,
     "status": "ok",
     "timestamp": 1641048096068,
     "user": {
      "displayName": "Mateusz",
      "photoUrl": "https://lh3.googleusercontent.com/a/default-user=s64",
      "userId": "16223602360258196595"
     },
     "user_tz": -60
    },
    "id": "B2-Bbv-xgRFc",
    "outputId": "c39d8fdd-db0c-4d48-c7c5-e009c9c626bd"
   },
   "outputs": [
    {
     "data": {
      "text/plain": [
       "(70000,)"
      ]
     },
     "execution_count": 3,
     "metadata": {},
     "output_type": "execute_result"
    }
   ],
   "source": [
    "y.shape"
   ]
  },
  {
   "cell_type": "code",
   "execution_count": 4,
   "metadata": {
    "colab": {
     "base_uri": "https://localhost:8080/"
    },
    "executionInfo": {
     "elapsed": 28,
     "status": "ok",
     "timestamp": 1641048096072,
     "user": {
      "displayName": "Mateusz",
      "photoUrl": "https://lh3.googleusercontent.com/a/default-user=s64",
      "userId": "16223602360258196595"
     },
     "user_tz": -60
    },
    "id": "fGBd8a7ggRFd",
    "outputId": "ec292fb7-4613-41e3-8cfa-60acd7dd1ae6"
   },
   "outputs": [
    {
     "data": {
      "text/plain": [
       "784"
      ]
     },
     "execution_count": 4,
     "metadata": {},
     "output_type": "execute_result"
    }
   ],
   "source": [
    "28 * 28 # Dowód ze kazdy obrazek ma wymiary 28 x 28"
   ]
  },
  {
   "cell_type": "code",
   "execution_count": 5,
   "metadata": {
    "colab": {
     "base_uri": "https://localhost:8080/",
     "height": 248
    },
    "executionInfo": {
     "elapsed": 399,
     "status": "ok",
     "timestamp": 1641048096451,
     "user": {
      "displayName": "Mateusz",
      "photoUrl": "https://lh3.googleusercontent.com/a/default-user=s64",
      "userId": "16223602360258196595"
     },
     "user_tz": -60
    },
    "id": "4xSpmZmegRFd",
    "outputId": "d01e9121-202d-4d9e-bd47-c2589ef8bf39"
   },
   "outputs": [
    {
     "data": {
      "image/png": "[encoded data removed]",
      "text/plain": [
       "<Figure size 432x288 with 1 Axes>"
      ]
     },
     "metadata": {
      "needs_background": "light"
     },
     "output_type": "display_data"
    }
   ],
   "source": [
    "%matplotlib inline\n",
    "import matplotlib as mpl\n",
    "import matplotlib.pyplot as plt\n",
    "\n",
    "some_digit = X[41]\n",
    "some_digit_image = some_digit.reshape(28, 28)\n",
    "plt.imshow(some_digit_image, cmap=mpl.cm.binary)\n",
    "plt.axis(\"off\")\n",
    "\n",
    "plt.show()"
   ]
  },
  {
   "cell_type": "code",
   "execution_count": 6,
   "metadata": {
    "colab": {
     "base_uri": "https://localhost:8080/",
     "height": 35
    },
    "executionInfo": {
     "elapsed": 32,
     "status": "ok",
     "timestamp": 1641048096454,
     "user": {
      "displayName": "Mateusz",
      "photoUrl": "https://lh3.googleusercontent.com/a/default-user=s64",
      "userId": "16223602360258196595"
     },
     "user_tz": -60
    },
    "id": "ewr8sYPsgRFd",
    "outputId": "23eedca3-f2e7-415a-eba3-3d990e021ab9"
   },
   "outputs": [
    {
     "data": {
      "text/plain": [
       "'8'"
      ]
     },
     "execution_count": 6,
     "metadata": {},
     "output_type": "execute_result"
    }
   ],
   "source": [
    "y[41] # czyli jest to liczba 5"
   ]
  },
  {
   "cell_type": "code",
   "execution_count": 7,
   "metadata": {
    "executionInfo": {
     "elapsed": 27,
     "status": "ok",
     "timestamp": 1641048096456,
     "user": {
      "displayName": "Mateusz",
      "photoUrl": "https://lh3.googleusercontent.com/a/default-user=s64",
      "userId": "16223602360258196595"
     },
     "user_tz": -60
    },
    "id": "2IUPuHZ1gRFe"
   },
   "outputs": [],
   "source": [
    "import numpy as np\n",
    "\n",
    "y = y.astype(np.uint8)"
   ]
  },
  {
   "cell_type": "markdown",
   "metadata": {
    "id": "0NSSBWB2gRFe"
   },
   "source": [
    "TERAZ DZIELIMY ZBIOR NA ZBIOR TESTOWY I TRENINGOWY\n",
    "\n",
    "60tys na treningowy i 10 tys na testowy"
   ]
  },
  {
   "cell_type": "code",
   "execution_count": 8,
   "metadata": {
    "executionInfo": {
     "elapsed": 26,
     "status": "ok",
     "timestamp": 1641048096458,
     "user": {
      "displayName": "Mateusz",
      "photoUrl": "https://lh3.googleusercontent.com/a/default-user=s64",
      "userId": "16223602360258196595"
     },
     "user_tz": -60
    },
    "id": "FEgh5ACbgRFf"
   },
   "outputs": [],
   "source": [
    "X_train,X_test,y_train,y_test = X[:60000],X[60000:],y[:60000],y[60000:]"
   ]
  },
  {
   "cell_type": "markdown",
   "metadata": {
    "id": "3GLzCNnjgRFf"
   },
   "source": [
    "                       Klasyfikator Binarny dla 5 czyli albo jest 5 albo nie jest 5\n",
    "                              \n",
    "                              Wartość true dla 5 a dla pozostałych false"
   ]
  },
  {
   "cell_type": "code",
   "execution_count": 9,
   "metadata": {
    "executionInfo": {
     "elapsed": 26,
     "status": "ok",
     "timestamp": 1641048096460,
     "user": {
      "displayName": "Mateusz",
      "photoUrl": "https://lh3.googleusercontent.com/a/default-user=s64",
      "userId": "16223602360258196595"
     },
     "user_tz": -60
    },
    "id": "dEEIE2-0gRFg"
   },
   "outputs": [],
   "source": [
    "y_train_5 = (y_train == 5)\n",
    "y_test_5  = (y_test == 5 )"
   ]
  },
  {
   "cell_type": "markdown",
   "metadata": {
    "id": "ol3eHvAkgRFg"
   },
   "source": [
    "                           Klasyfikator SGD -> Stochastyczny spadek wzdłuż gradientu\n",
    "                             \"random_state\" uzywamy aby wyniki były powtarzalne"
   ]
  },
  {
   "cell_type": "code",
   "execution_count": 10,
   "metadata": {
    "colab": {
     "base_uri": "https://localhost:8080/"
    },
    "executionInfo": {
     "elapsed": 18621,
     "status": "ok",
     "timestamp": 1641048115056,
     "user": {
      "displayName": "Mateusz",
      "photoUrl": "https://lh3.googleusercontent.com/a/default-user=s64",
      "userId": "16223602360258196595"
     },
     "user_tz": -60
    },
    "id": "1aE9laLHgRFg",
    "outputId": "9bbc2511-d041-4d70-8280-49baf65d6328"
   },
   "outputs": [
    {
     "data": {
      "text/plain": [
       "SGDClassifier(random_state=42)"
      ]
     },
     "execution_count": 10,
     "metadata": {},
     "output_type": "execute_result"
    }
   ],
   "source": [
    "from sklearn.linear_model import SGDClassifier\n",
    "\n",
    "sgd_clif = SGDClassifier(random_state=42)\n",
    "sgd_clif.fit(X_train,y_train_5)"
   ]
  },
  {
   "cell_type": "code",
   "execution_count": 11,
   "metadata": {
    "colab": {
     "base_uri": "https://localhost:8080/"
    },
    "executionInfo": {
     "elapsed": 30,
     "status": "ok",
     "timestamp": 1641048115059,
     "user": {
      "displayName": "Mateusz",
      "photoUrl": "https://lh3.googleusercontent.com/a/default-user=s64",
      "userId": "16223602360258196595"
     },
     "user_tz": -60
    },
    "id": "3o8ojA0WgRFh",
    "outputId": "eda8d863-58fe-46ec-c08b-995a82f77cd3"
   },
   "outputs": [
    {
     "data": {
      "text/plain": [
       "array([False])"
      ]
     },
     "execution_count": 11,
     "metadata": {},
     "output_type": "execute_result"
    }
   ],
   "source": [
    "sgd_clif.predict([some_digit])"
   ]
  },
  {
   "cell_type": "markdown",
   "metadata": {
    "id": "6OBsUMKBgRFh"
   },
   "source": [
    "                                         Pomiar Wydajności"
   ]
  },
  {
   "cell_type": "code",
   "execution_count": 12,
   "metadata": {
    "colab": {
     "base_uri": "https://localhost:8080/"
    },
    "executionInfo": {
     "elapsed": 25060,
     "status": "ok",
     "timestamp": 1641048140100,
     "user": {
      "displayName": "Mateusz",
      "photoUrl": "https://lh3.googleusercontent.com/a/default-user=s64",
      "userId": "16223602360258196595"
     },
     "user_tz": -60
    },
    "id": "xFcurlX-gRFh",
    "outputId": "210fb0c9-28bb-4ef5-fc8e-836ecd31e0b8"
   },
   "outputs": [
    {
     "data": {
      "text/plain": [
       "array([0.95035, 0.96035, 0.9604 ])"
      ]
     },
     "execution_count": 12,
     "metadata": {},
     "output_type": "execute_result"
    }
   ],
   "source": [
    "from sklearn.model_selection import cross_val_score\n",
    "cross_val_score(sgd_clif,X_train,y_train_5,cv=3, scoring=\"accuracy\")"
   ]
  },
  {
   "cell_type": "code",
   "execution_count": 13,
   "metadata": {
    "executionInfo": {
     "elapsed": 25,
     "status": "ok",
     "timestamp": 1641048140102,
     "user": {
      "displayName": "Mateusz",
      "photoUrl": "https://lh3.googleusercontent.com/a/default-user=s64",
      "userId": "16223602360258196595"
     },
     "user_tz": -60
    },
    "id": "x47vpKhsgRFi"
   },
   "outputs": [],
   "source": [
    "from sklearn.base import BaseEstimator\n",
    "class Never5Classifier(BaseEstimator):\n",
    "    def fit(self,X,y=None):\n",
    "        return self;\n",
    "    def predict(self,X):\n",
    "        return np.zeros((len(X),1), dtype = bool)"
   ]
  },
  {
   "cell_type": "code",
   "execution_count": 14,
   "metadata": {
    "colab": {
     "base_uri": "https://localhost:8080/"
    },
    "executionInfo": {
     "elapsed": 359,
     "status": "ok",
     "timestamp": 1641048140443,
     "user": {
      "displayName": "Mateusz",
      "photoUrl": "https://lh3.googleusercontent.com/a/default-user=s64",
      "userId": "16223602360258196595"
     },
     "user_tz": -60
    },
    "id": "qi7umXtcgRFi",
    "outputId": "a5c85c3d-67ec-4baa-f33d-d0a74da0c2ac"
   },
   "outputs": [
    {
     "data": {
      "text/plain": [
       "array([0.91125, 0.90855, 0.90915])"
      ]
     },
     "execution_count": 14,
     "metadata": {},
     "output_type": "execute_result"
    }
   ],
   "source": [
    "never_5_clf = Never5Classifier()\n",
    "cross_val_score(never_5_clf,X_train,y_train_5,cv=3,scoring='accuracy')"
   ]
  },
  {
   "cell_type": "markdown",
   "metadata": {
    "id": "1uzgcL30gRFj"
   },
   "source": [
    "                      Znacznie lepszym pomiarem wydajnosci jest\n",
    "                                 MACIERZ POMYŁEK"
   ]
  },
  {
   "cell_type": "code",
   "execution_count": 15,
   "metadata": {
    "executionInfo": {
     "elapsed": 28393,
     "status": "ok",
     "timestamp": 1641048168830,
     "user": {
      "displayName": "Mateusz",
      "photoUrl": "https://lh3.googleusercontent.com/a/default-user=s64",
      "userId": "16223602360258196595"
     },
     "user_tz": -60
    },
    "id": "66iD90dogRFj"
   },
   "outputs": [],
   "source": [
    "from sklearn.model_selection import cross_val_predict\n",
    "\n",
    "y_train_pred = cross_val_predict(sgd_clif, X_train, y_train_5, cv=3) #Dzielenie na Sprawdzian krzyżowy"
   ]
  },
  {
   "cell_type": "markdown",
   "metadata": {
    "id": "yhl4Lw3HgRFj"
   },
   "source": [
    "         acierz pomyłek przy pomocy  confusion_matrix podajemy klase docelową i przeiwdywania klasty"
   ]
  },
  {
   "cell_type": "code",
   "execution_count": 16,
   "metadata": {
    "colab": {
     "base_uri": "https://localhost:8080/"
    },
    "executionInfo": {
     "elapsed": 44,
     "status": "ok",
     "timestamp": 1641048168831,
     "user": {
      "displayName": "Mateusz",
      "photoUrl": "https://lh3.googleusercontent.com/a/default-user=s64",
      "userId": "16223602360258196595"
     },
     "user_tz": -60
    },
    "id": "qhx2kYV_gRFj",
    "outputId": "e4b160bf-e36f-4286-f559-dc4f338f0712"
   },
   "outputs": [
    {
     "data": {
      "text/plain": [
       "array([[53892,   687],\n",
       "       [ 1891,  3530]])"
      ]
     },
     "execution_count": 16,
     "metadata": {},
     "output_type": "execute_result"
    }
   ],
   "source": [
    "from sklearn.metrics import confusion_matrix\n",
    "confusion_matrix(y_train_5,y_train_pred)"
   ]
  },
  {
   "cell_type": "markdown",
   "metadata": {
    "id": "N3mkY3oJgRFk"
   },
   "source": [
    "                                         PRECYZJA KLASYFIKATORA"
   ]
  },
  {
   "cell_type": "code",
   "execution_count": 17,
   "metadata": {
    "colab": {
     "base_uri": "https://localhost:8080/"
    },
    "executionInfo": {
     "elapsed": 27,
     "status": "ok",
     "timestamp": 1641048168832,
     "user": {
      "displayName": "Mateusz",
      "photoUrl": "https://lh3.googleusercontent.com/a/default-user=s64",
      "userId": "16223602360258196595"
     },
     "user_tz": -60
    },
    "id": "VXL5jb1OgRFk",
    "outputId": "0035d40c-9aa6-4c08-e7c6-34fa9a1bed72"
   },
   "outputs": [
    {
     "data": {
      "text/plain": [
       "0.8370879772350012"
      ]
     },
     "execution_count": 17,
     "metadata": {},
     "output_type": "execute_result"
    }
   ],
   "source": [
    "from sklearn.metrics import precision_score,recall_score\n",
    "\n",
    "precision_score(y_train_5,y_train_pred) # Gdy uznaje ze rozpoznaje cyfre 5 nie myli sie w tylu procentach"
   ]
  },
  {
   "cell_type": "code",
   "execution_count": 18,
   "metadata": {
    "colab": {
     "base_uri": "https://localhost:8080/"
    },
    "executionInfo": {
     "elapsed": 23,
     "status": "ok",
     "timestamp": 1641048168834,
     "user": {
      "displayName": "Mateusz",
      "photoUrl": "https://lh3.googleusercontent.com/a/default-user=s64",
      "userId": "16223602360258196595"
     },
     "user_tz": -60
    },
    "id": "3PVPqB_fgRFl",
    "outputId": "ee4d6d53-b8bb-4cfa-ae9d-9bb56ec6cf5c"
   },
   "outputs": [
    {
     "data": {
      "text/plain": [
       "0.6511713705958311"
      ]
     },
     "execution_count": 18,
     "metadata": {},
     "output_type": "execute_result"
    }
   ],
   "source": [
    "recall_score(y_train_5,y_train_pred) #Prawidłowo rozpoznaje 5"
   ]
  },
  {
   "cell_type": "markdown",
   "metadata": {
    "id": "Vb6Mct69gRFl"
   },
   "source": [
    "                                ŚREDNIA HARMONICZNA PRECYZJI I PEŁNOŚCI"
   ]
  },
  {
   "cell_type": "code",
   "execution_count": 19,
   "metadata": {
    "colab": {
     "base_uri": "https://localhost:8080/"
    },
    "executionInfo": {
     "elapsed": 19,
     "status": "ok",
     "timestamp": 1641048168834,
     "user": {
      "displayName": "Mateusz",
      "photoUrl": "https://lh3.googleusercontent.com/a/default-user=s64",
      "userId": "16223602360258196595"
     },
     "user_tz": -60
    },
    "id": "_7GUs4LJgRFl",
    "outputId": "e7229ee5-900a-4bd1-f7e9-1f4cd558cb87"
   },
   "outputs": [
    {
     "data": {
      "text/plain": [
       "0.7325171197343846"
      ]
     },
     "execution_count": 19,
     "metadata": {},
     "output_type": "execute_result"
    }
   ],
   "source": [
    "from sklearn.metrics import f1_score\n",
    "\n",
    "f1_score(y_train_5,y_train_pred)"
   ]
  },
  {
   "cell_type": "code",
   "execution_count": 20,
   "metadata": {
    "colab": {
     "base_uri": "https://localhost:8080/"
    },
    "executionInfo": {
     "elapsed": 394,
     "status": "ok",
     "timestamp": 1641048169213,
     "user": {
      "displayName": "Mateusz",
      "photoUrl": "https://lh3.googleusercontent.com/a/default-user=s64",
      "userId": "16223602360258196595"
     },
     "user_tz": -60
    },
    "id": "CXC9-Gd1gRFl",
    "outputId": "600dd10a-6b07-4c38-8da2-67b3105a65fe"
   },
   "outputs": [
    {
     "data": {
      "text/plain": [
       "array([-3624.39316868])"
      ]
     },
     "execution_count": 20,
     "metadata": {},
     "output_type": "execute_result"
    }
   ],
   "source": [
    "y_scores = sgd_clif.decision_function([some_digit])\n",
    "y_scores"
   ]
  },
  {
   "cell_type": "markdown",
   "metadata": {
    "id": "M186fxWEmi1R"
   },
   "source": [
    "Kompromis pomiedzy precyzją a pełnością przy uzyciu  progów SGDClassifier korzysta z progru o wartosci 0 dlatego powyższy kod zwraca taki sam wynik jak metoda predict() \n"
   ]
  },
  {
   "cell_type": "code",
   "execution_count": 21,
   "metadata": {
    "colab": {
     "base_uri": "https://localhost:8080/"
    },
    "executionInfo": {
     "elapsed": 15,
     "status": "ok",
     "timestamp": 1641048169214,
     "user": {
      "displayName": "Mateusz",
      "photoUrl": "https://lh3.googleusercontent.com/a/default-user=s64",
      "userId": "16223602360258196595"
     },
     "user_tz": -60
    },
    "id": "hvjR16sGmBo2",
    "outputId": "d1dce948-f6e3-4ad2-8cb9-3feb39f9f663"
   },
   "outputs": [
    {
     "data": {
      "text/plain": [
       "array([False])"
      ]
     },
     "execution_count": 21,
     "metadata": {},
     "output_type": "execute_result"
    }
   ],
   "source": [
    "threshold = 0 \n",
    "y_some_digit_pred = (y_scores > threshold)\n",
    "y_some_digit_pred"
   ]
  },
  {
   "cell_type": "markdown",
   "metadata": {
    "id": "67v1L1wKm4hD"
   },
   "source": [
    "Podnosimy teraz próg \n"
   ]
  },
  {
   "cell_type": "code",
   "execution_count": 22,
   "metadata": {
    "colab": {
     "base_uri": "https://localhost:8080/"
    },
    "executionInfo": {
     "elapsed": 12,
     "status": "ok",
     "timestamp": 1641048169215,
     "user": {
      "displayName": "Mateusz",
      "photoUrl": "https://lh3.googleusercontent.com/a/default-user=s64",
      "userId": "16223602360258196595"
     },
     "user_tz": -60
    },
    "id": "LwBQljzlmhv-",
    "outputId": "bfe2b880-116a-4bee-e7f4-583e1c0488de"
   },
   "outputs": [
    {
     "data": {
      "text/plain": [
       "array([False])"
      ]
     },
     "execution_count": 22,
     "metadata": {},
     "output_type": "execute_result"
    }
   ],
   "source": [
    "threshold = 8000 \n",
    "y_some_digit_pred = (y_scores > threshold)\n",
    "y_some_digit_pred"
   ]
  },
  {
   "cell_type": "markdown",
   "metadata": {
    "id": "lTjSiPysnA2D"
   },
   "source": [
    "Przy progu 8000  zmniejsza sie pelnosc i nie wykrywa 5 (chociaz liczba jest 5 ) Klasyfikator rozpoznaje ją przy progu 0 ale nie przy progu 8000 więc daje to nam dowód ze podniesienie progu zmniejsza pełność "
   ]
  },
  {
   "cell_type": "markdown",
   "metadata": {
    "id": "leQrT0Nqn0t5"
   },
   "source": [
    "Teraz uzyskujemy wyniki wszystkich przykładów zestawu uczącego "
   ]
  },
  {
   "cell_type": "code",
   "execution_count": 23,
   "metadata": {
    "executionInfo": {
     "elapsed": 28941,
     "status": "ok",
     "timestamp": 1641048198149,
     "user": {
      "displayName": "Mateusz",
      "photoUrl": "https://lh3.googleusercontent.com/a/default-user=s64",
      "userId": "16223602360258196595"
     },
     "user_tz": -60
    },
    "id": "HoLKZgx5nACq"
   },
   "outputs": [],
   "source": [
    "y_scores = cross_val_predict(sgd_clif, X_train, y_train_5, cv=3, method=\"decision_function\")\n"
   ]
  },
  {
   "cell_type": "code",
   "execution_count": 24,
   "metadata": {
    "colab": {
     "base_uri": "https://localhost:8080/"
    },
    "executionInfo": {
     "elapsed": 47,
     "status": "ok",
     "timestamp": 1641048198151,
     "user": {
      "displayName": "Mateusz",
      "photoUrl": "https://lh3.googleusercontent.com/a/default-user=s64",
      "userId": "16223602360258196595"
     },
     "user_tz": -60
    },
    "id": "ISHkeacDoXGA",
    "outputId": "1b5003ae-0437-40e8-8dac-d53f3b5de009"
   },
   "outputs": [
    {
     "data": {
      "text/plain": [
       "array([  1200.93051237, -26883.79202424, -33072.03475406, ...,\n",
       "        13272.12718981,  -7258.47203373, -16877.50840447])"
      ]
     },
     "execution_count": 24,
     "metadata": {},
     "output_type": "execute_result"
    }
   ],
   "source": [
    "y_scores"
   ]
  },
  {
   "cell_type": "code",
   "execution_count": 25,
   "metadata": {
    "executionInfo": {
     "elapsed": 39,
     "status": "ok",
     "timestamp": 1641048198155,
     "user": {
      "displayName": "Mateusz",
      "photoUrl": "https://lh3.googleusercontent.com/a/default-user=s64",
      "userId": "16223602360258196595"
     },
     "user_tz": -60
    },
    "id": "Z-GZ09aeoiBW"
   },
   "outputs": [],
   "source": [
    "from sklearn.metrics import precision_recall_curve\n",
    "\n",
    "precision, recalls, thresholds = precision_recall_curve(y_train_5, y_scores)"
   ]
  },
  {
   "cell_type": "markdown",
   "metadata": {
    "id": "F41zH4FRo-vm"
   },
   "source": [
    "Generowanie wykresu precyzji i pełnosci "
   ]
  },
  {
   "cell_type": "code",
   "execution_count": 26,
   "metadata": {
    "executionInfo": {
     "elapsed": 39,
     "status": "ok",
     "timestamp": 1641048198158,
     "user": {
      "displayName": "Mateusz",
      "photoUrl": "https://lh3.googleusercontent.com/a/default-user=s64",
      "userId": "16223602360258196595"
     },
     "user_tz": -60
    },
    "id": "ZdYgfBNWo40v"
   },
   "outputs": [],
   "source": [
    "def plot_precision_recall_vs_threshold(precisions, recalls, thresholds):\n",
    "    plt.plot(thresholds, precisions[:-1], \"b--\", label=\"Precision\", linewidth=2)\n",
    "    plt.plot(thresholds, recalls[:-1], \"g-\", label=\"Recall\", linewidth=2)"
   ]
  },
  {
   "cell_type": "code",
   "execution_count": 27,
   "metadata": {
    "colab": {
     "base_uri": "https://localhost:8080/",
     "height": 265
    },
    "executionInfo": {
     "elapsed": 39,
     "status": "ok",
     "timestamp": 1641048198160,
     "user": {
      "displayName": "Mateusz",
      "photoUrl": "https://lh3.googleusercontent.com/a/default-user=s64",
      "userId": "16223602360258196595"
     },
     "user_tz": -60
    },
    "id": "BTNUeAXdpkS2",
    "outputId": "854fe392-b885-4c81-d937-b00fe803721a"
   },
   "outputs": [
    {
     "data": {
      "image/png": "[encoded data removed]",
      "text/plain": [
       "<Figure size 432x288 with 1 Axes>"
      ]
     },
     "metadata": {
      "needs_background": "light"
     },
     "output_type": "display_data"
    }
   ],
   "source": [
    "plot_precision_recall_vs_threshold(precision, recalls, thresholds)\n",
    "plt.show()"
   ]
  },
  {
   "cell_type": "markdown",
   "metadata": {
    "id": "KPkot1cKUjiZ"
   },
   "source": [
    "Zakładamy ze potrzebujemy model o 90% precyzji \n"
   ]
  },
  {
   "cell_type": "code",
   "execution_count": 28,
   "metadata": {
    "executionInfo": {
     "elapsed": 35,
     "status": "ok",
     "timestamp": 1641048198161,
     "user": {
      "displayName": "Mateusz",
      "photoUrl": "https://lh3.googleusercontent.com/a/default-user=s64",
      "userId": "16223602360258196595"
     },
     "user_tz": -60
    },
    "id": "5m_OdtrwpuKb"
   },
   "outputs": [],
   "source": [
    "tresholds_90_precision = thresholds[np.argmax(precision >=0.90)]"
   ]
  },
  {
   "cell_type": "code",
   "execution_count": 29,
   "metadata": {
    "executionInfo": {
     "elapsed": 804,
     "status": "ok",
     "timestamp": 1641048198933,
     "user": {
      "displayName": "Mateusz",
      "photoUrl": "https://lh3.googleusercontent.com/a/default-user=s64",
      "userId": "16223602360258196595"
     },
     "user_tz": -60
    },
    "id": "vIdpmjVWUziz"
   },
   "outputs": [],
   "source": [
    "y_train_precision_90 = (y_scores >= tresholds_90_precision)"
   ]
  },
  {
   "cell_type": "code",
   "execution_count": 30,
   "metadata": {
    "colab": {
     "base_uri": "https://localhost:8080/"
    },
    "executionInfo": {
     "elapsed": 40,
     "status": "ok",
     "timestamp": 1641048198935,
     "user": {
      "displayName": "Mateusz",
      "photoUrl": "https://lh3.googleusercontent.com/a/default-user=s64",
      "userId": "16223602360258196595"
     },
     "user_tz": -60
    },
    "id": "ef_2UB9ZVKFg",
    "outputId": "ab28d1a4-4742-42b2-90c5-6c177912bd05"
   },
   "outputs": [
    {
     "data": {
      "text/plain": [
       "0.9000345901072293"
      ]
     },
     "execution_count": 30,
     "metadata": {},
     "output_type": "execute_result"
    }
   ],
   "source": [
    "precision_score(y_train_5,y_train_precision_90) # precyzja "
   ]
  },
  {
   "cell_type": "code",
   "execution_count": 31,
   "metadata": {
    "colab": {
     "base_uri": "https://localhost:8080/"
    },
    "executionInfo": {
     "elapsed": 36,
     "status": "ok",
     "timestamp": 1641048198937,
     "user": {
      "displayName": "Mateusz",
      "photoUrl": "https://lh3.googleusercontent.com/a/default-user=s64",
      "userId": "16223602360258196595"
     },
     "user_tz": -60
    },
    "id": "CTMdHEFXVScb",
    "outputId": "3ae70a60-02fc-451e-a65f-b5fb7e389917"
   },
   "outputs": [
    {
     "data": {
      "text/plain": [
       "0.4799852425751706"
      ]
     },
     "execution_count": 31,
     "metadata": {},
     "output_type": "execute_result"
    }
   ],
   "source": [
    "recall_score(y_train_5,y_train_precision_90) # pełność "
   ]
  },
  {
   "cell_type": "code",
   "execution_count": 32,
   "metadata": {
    "executionInfo": {
     "elapsed": 33,
     "status": "ok",
     "timestamp": 1641048198940,
     "user": {
      "displayName": "Mateusz",
      "photoUrl": "https://lh3.googleusercontent.com/a/default-user=s64",
      "userId": "16223602360258196595"
     },
     "user_tz": -60
    },
    "id": "kZLxSuzDV46I"
   },
   "outputs": [],
   "source": [
    "from sklearn.metrics import roc_curve\n"
   ]
  },
  {
   "cell_type": "code",
   "execution_count": 33,
   "metadata": {
    "executionInfo": {
     "elapsed": 36,
     "status": "ok",
     "timestamp": 1641048198943,
     "user": {
      "displayName": "Mateusz",
      "photoUrl": "https://lh3.googleusercontent.com/a/default-user=s64",
      "userId": "16223602360258196595"
     },
     "user_tz": -60
    },
    "id": "Fv3oNu8Ebt_L"
   },
   "outputs": [],
   "source": [
    "fpr , tpr, thresholds = roc_curve(y_train_5,y_scores)"
   ]
  },
  {
   "cell_type": "code",
   "execution_count": 34,
   "metadata": {
    "executionInfo": {
     "elapsed": 40,
     "status": "ok",
     "timestamp": 1641048198949,
     "user": {
      "displayName": "Mateusz",
      "photoUrl": "https://lh3.googleusercontent.com/a/default-user=s64",
      "userId": "16223602360258196595"
     },
     "user_tz": -60
    },
    "id": "rwO2TlWJb5dQ"
   },
   "outputs": [],
   "source": [
    "def plot_roc_curve(fpr, tpr, label = None):\n",
    "  plt.plot(fpr, tpr, linewidth=2, label = label)\n",
    "  plt.plot([0,1],[0,1],'k--')"
   ]
  },
  {
   "cell_type": "code",
   "execution_count": 35,
   "metadata": {
    "colab": {
     "base_uri": "https://localhost:8080/",
     "height": 265
    },
    "executionInfo": {
     "elapsed": 42,
     "status": "ok",
     "timestamp": 1641048198953,
     "user": {
      "displayName": "Mateusz",
      "photoUrl": "https://lh3.googleusercontent.com/a/default-user=s64",
      "userId": "16223602360258196595"
     },
     "user_tz": -60
    },
    "id": "ih1E3jfycvdQ",
    "outputId": "a2b32237-2d43-47f6-fd49-020f817fba8f",
    "scrolled": true
   },
   "outputs": [
    {
     "data": {
      "image/png": "[encoded data removed]",
      "text/plain": [
       "<Figure size 432x288 with 1 Axes>"
      ]
     },
     "metadata": {
      "needs_background": "light"
     },
     "output_type": "display_data"
    }
   ],
   "source": [
    "plot_roc_curve(fpr, tpr)"
   ]
  },
  {
   "cell_type": "code",
   "execution_count": 36,
   "metadata": {
    "colab": {
     "base_uri": "https://localhost:8080/"
    },
    "executionInfo": {
     "elapsed": 326972,
     "status": "ok",
     "timestamp": 1641048525887,
     "user": {
      "displayName": "Mateusz",
      "photoUrl": "https://lh3.googleusercontent.com/a/default-user=s64",
      "userId": "16223602360258196595"
     },
     "user_tz": -60
    },
    "id": "d2mamzh4epRs",
    "outputId": "b8da5a05-ee41-4c43-a738-317aec4e21ad"
   },
   "outputs": [
    {
     "data": {
      "text/plain": [
       "array([8], dtype=uint8)"
      ]
     },
     "execution_count": 36,
     "metadata": {},
     "output_type": "execute_result"
    }
   ],
   "source": [
    "from sklearn.svm import SVC\n",
    "svm_clf = SVC()\n",
    "svm_clf.fit(X_train,y_train)\n",
    "svm_clf.predict([some_digit])"
   ]
  },
  {
   "cell_type": "code",
   "execution_count": 37,
   "metadata": {
    "colab": {
     "base_uri": "https://localhost:8080/"
    },
    "executionInfo": {
     "elapsed": 150356,
     "status": "ok",
     "timestamp": 1641048676227,
     "user": {
      "displayName": "Mateusz",
      "photoUrl": "https://lh3.googleusercontent.com/a/default-user=s64",
      "userId": "16223602360258196595"
     },
     "user_tz": -60
    },
    "id": "6lJ8zSjjnP8L",
    "outputId": "8313828a-83fe-4639-f41c-0caddc379e39"
   },
   "outputs": [
    {
     "data": {
      "text/plain": [
       "SGDClassifier(random_state=42)"
      ]
     },
     "execution_count": 37,
     "metadata": {},
     "output_type": "execute_result"
    }
   ],
   "source": [
    "sgd_clif.fit(X_train,y_train)"
   ]
  },
  {
   "cell_type": "code",
   "execution_count": 38,
   "metadata": {
    "colab": {
     "base_uri": "https://localhost:8080/"
    },
    "executionInfo": {
     "elapsed": 39,
     "status": "ok",
     "timestamp": 1641048676230,
     "user": {
      "displayName": "Mateusz",
      "photoUrl": "https://lh3.googleusercontent.com/a/default-user=s64",
      "userId": "16223602360258196595"
     },
     "user_tz": -60
    },
    "id": "s2Wfz6OCpCEx",
    "outputId": "5c708df1-2079-4bb4-cefe-48d45e014cbc"
   },
   "outputs": [
    {
     "data": {
      "text/plain": [
       "array([8], dtype=uint8)"
      ]
     },
     "execution_count": 38,
     "metadata": {},
     "output_type": "execute_result"
    }
   ],
   "source": [
    "#some_digit\n",
    "sgd_clif.predict([X[41]])"
   ]
  },
  {
   "cell_type": "code",
   "execution_count": 39,
   "metadata": {
    "colab": {
     "base_uri": "https://localhost:8080/"
    },
    "executionInfo": {
     "elapsed": 29,
     "status": "ok",
     "timestamp": 1641048676233,
     "user": {
      "displayName": "Mateusz",
      "photoUrl": "https://lh3.googleusercontent.com/a/default-user=s64",
      "userId": "16223602360258196595"
     },
     "user_tz": -60
    },
    "id": "jE80z1ilpqmH",
    "outputId": "041d32bb-0516-46c1-c473-270f20bce29d"
   },
   "outputs": [
    {
     "data": {
      "text/plain": [
       "array([[-30606.01613152, -12475.62868444,  -8780.49604951,\n",
       "         -5659.90449646, -21260.61156933,  -9269.25780426,\n",
       "        -21194.29718929, -25447.63205921,   3190.15202975,\n",
       "         -5468.96363598]])"
      ]
     },
     "execution_count": 39,
     "metadata": {},
     "output_type": "execute_result"
    }
   ],
   "source": [
    "sgd_clif.decision_function([X[41]])"
   ]
  },
  {
   "cell_type": "code",
   "execution_count": 40,
   "metadata": {
    "colab": {
     "base_uri": "https://localhost:8080/"
    },
    "executionInfo": {
     "elapsed": 229068,
     "status": "ok",
     "timestamp": 1641048905283,
     "user": {
      "displayName": "Mateusz",
      "photoUrl": "https://lh3.googleusercontent.com/a/default-user=s64",
      "userId": "16223602360258196595"
     },
     "user_tz": -60
    },
    "id": "-pWOI7avsAlR",
    "outputId": "5e8d97f0-bf98-4875-80f6-7547a647129b"
   },
   "outputs": [
    {
     "data": {
      "text/plain": [
       "array([0.87365, 0.85835, 0.8689 ])"
      ]
     },
     "execution_count": 40,
     "metadata": {},
     "output_type": "execute_result"
    }
   ],
   "source": [
    "cross_val_score(sgd_clif, X_train, y_train, cv=3,scoring=\"accuracy\")"
   ]
  },
  {
   "cell_type": "code",
   "execution_count": 41,
   "metadata": {
    "executionInfo": {
     "elapsed": 862,
     "status": "ok",
     "timestamp": 1641048906132,
     "user": {
      "displayName": "Mateusz",
      "photoUrl": "https://lh3.googleusercontent.com/a/default-user=s64",
      "userId": "16223602360258196595"
     },
     "user_tz": -60
    },
    "id": "3qjmafMfqNr4"
   },
   "outputs": [],
   "source": [
    "from sklearn.preprocessing import StandardScaler\n",
    "\n",
    "scaler = StandardScaler()\n",
    "X_train_scaled = scaler.fit_transform(X_train.astype(np.float64))\n"
   ]
  },
  {
   "cell_type": "code",
   "execution_count": 42,
   "metadata": {
    "colab": {
     "background_save": true
    },
    "id": "enLrtOIssJd_"
   },
   "outputs": [],
   "source": [
    "y_train_pred = cross_val_score(sgd_clif, X_train_scaled, y_train, cv=3)\n"
   ]
  },
  {
   "cell_type": "code",
   "execution_count": 43,
   "metadata": {
    "colab": {
     "background_save": true
    },
    "id": "tqITxzVhUVVs"
   },
   "outputs": [],
   "source": [
    "def plot_confusion_matrix(matrix):\n",
    "    \"\"\"If you prefer color and a colorbar\"\"\"\n",
    "    fig = plt.figure(figsize=(8,8))\n",
    "    ax = fig.add_subplot(111)\n",
    "    cax = ax.matshow(matrix)\n",
    "    fig.colorbar(cax)"
   ]
  },
  {
   "cell_type": "code",
   "execution_count": 44,
   "metadata": {},
   "outputs": [
    {
     "data": {
      "text/plain": [
       "array([[5577,    0,   22,    5,    8,   43,   36,    6,  225,    1],\n",
       "       [   0, 6400,   37,   24,    4,   44,    4,    7,  212,   10],\n",
       "       [  27,   27, 5220,   92,   73,   27,   67,   36,  378,   11],\n",
       "       [  22,   17,  117, 5227,    2,  203,   27,   40,  403,   73],\n",
       "       [  12,   14,   41,    9, 5182,   12,   34,   27,  347,  164],\n",
       "       [  27,   15,   30,  168,   53, 4444,   75,   14,  535,   60],\n",
       "       [  30,   15,   42,    3,   44,   97, 5552,    3,  131,    1],\n",
       "       [  21,   10,   51,   30,   49,   12,    3, 5684,  195,  210],\n",
       "       [  17,   63,   48,   86,    3,  126,   25,   10, 5429,   44],\n",
       "       [  25,   18,   30,   64,  118,   36,    1,  179,  371, 5107]])"
      ]
     },
     "execution_count": 44,
     "metadata": {},
     "output_type": "execute_result"
    }
   ],
   "source": [
    "y_train_pred = cross_val_predict(sgd_clif, X_train_scaled, y_train, cv=3)\n",
    "conf_mx = confusion_matrix(y_train, y_train_pred)\n",
    "conf_mx"
   ]
  },
  {
   "cell_type": "code",
   "execution_count": 1,
   "metadata": {},
   "outputs": [
    {
     "ename": "NameError",
     "evalue": "name 'plt' is not defined",
     "output_type": "error",
     "traceback": [
      "\u001b[0;31m---------------------------------------------------------------------------\u001b[0m",
      "\u001b[0;31mNameError\u001b[0m                                 Traceback (most recent call last)",
      "\u001b[0;32m<ipython-input-1-98abbe242426>\u001b[0m in \u001b[0;36m<module>\u001b[0;34m\u001b[0m\n\u001b[0;32m----> 1\u001b[0;31m \u001b[0mplt\u001b[0m\u001b[0;34m.\u001b[0m\u001b[0mmatshow\u001b[0m\u001b[0;34m(\u001b[0m\u001b[0mconf_mx\u001b[0m\u001b[0;34m)\u001b[0m\u001b[0;34m\u001b[0m\u001b[0;34m\u001b[0m\u001b[0m\n\u001b[0m\u001b[1;32m      2\u001b[0m \u001b[0mplt\u001b[0m\u001b[0;34m.\u001b[0m\u001b[0mshow\u001b[0m\u001b[0;34m(\u001b[0m\u001b[0;34m)\u001b[0m\u001b[0;34m\u001b[0m\u001b[0;34m\u001b[0m\u001b[0m\n",
      "\u001b[0;31mNameError\u001b[0m: name 'plt' is not defined"
     ]
    }
   ],
   "source": [
    "plt.matshow(conf_mx, cmap=plt.cm.gray)\n",
    "plt.show()"
   ]
  },
  {
   "cell_type": "code",
   "execution_count": 46,
   "metadata": {},
   "outputs": [
    {
     "data": {
      "text/plain": [
       "KNeighborsClassifier()"
      ]
     },
     "execution_count": 46,
     "metadata": {},
     "output_type": "execute_result"
    }
   ],
   "source": [
    "from sklearn.neighbors import KNeighborsClassifier \n",
    "\n",
    "y_train_large = (y_train >= 7)\n",
    "y_train_odd = (y_train % 2 == 1)\n",
    "y_multilabel = np.c_[y_train_large, y_train_odd]\n",
    "\n",
    "knn_clf = KNeighborsClassifier()\n",
    "knn_clf.fit(X_train, y_multilabel)"
   ]
  },
  {
   "cell_type": "code",
   "execution_count": 47,
   "metadata": {},
   "outputs": [
    {
     "data": {
      "text/plain": [
       "array([[ True, False]])"
      ]
     },
     "execution_count": 47,
     "metadata": {},
     "output_type": "execute_result"
    }
   ],
   "source": [
    "knn_clf.predict([some_digit])"
   ]
  },
  {
   "cell_type": "code",
   "execution_count": null,
   "metadata": {},
   "outputs": [],
   "source": []
  }
 ],
 "metadata": {
  "accelerator": "TPU",
  "colab": {
   "collapsed_sections": [],
   "name": "Kopia notatnika MNIST.ipynb",
   "provenance": [
    {
     "file_id": "https://github.com/Dimateos12/Klasyfikacja_MNIST/blob/master/MNIST.ipynb",
     "timestamp": 1640303072899
    }
   ],
   "version": ""
  },
  "kernelspec": {
   "display_name": "Python 3",
   "language": "python",
   "name": "python3"
  },
  "language_info": {
   "codemirror_mode": {
    "name": "ipython",
    "version": 3
   },
   "file_extension": ".py",
   "mimetype": "text/x-python",
   "name": "python",
   "nbconvert_exporter": "python",
   "pygments_lexer": "ipython3",
   "version": "3.8.5"
  }
 },
 "nbformat": 4,
 "nbformat_minor": 4
}
